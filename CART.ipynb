{
 "cells": [
  {
   "cell_type": "code",
   "execution_count": 1,
   "metadata": {
    "collapsed": true
   },
   "outputs": [],
   "source": [
    "%reload_ext autoreload\n",
    "%autoreload 2"
   ]
  },
  {
   "cell_type": "code",
   "execution_count": 6,
   "metadata": {
    "collapsed": false
   },
   "outputs": [
    {
     "name": "stdout",
     "output_type": "stream",
     "text": [
      "{   'feature': 1,\n",
      "    'left_child': {   'feature': 0,\n",
      "                      'left_child': {   'predict': 1.1000000000000001},\n",
      "                      'right_child': {   'predict': 0.59999999999999998},\n",
      "                      'value': 1.2},\n",
      "    'right_child': {   'feature': 0,\n",
      "                       'left_child': {   'predict': 7.7999999999999998},\n",
      "                       'right_child': {   'predict': 2.8999999999999999},\n",
      "                       'value': 2.2999999999999998},\n",
      "    'value': 2.2999999999999998}\n",
      "[ 1.1  2.9]\n"
     ]
    }
   ],
   "source": [
    "import numpy as np\n",
    "import pprint\n",
    "from classifier.CART import CART\n",
    "\n",
    "data = np.array([\n",
    "        [0.6, 1.0, 1.2],\n",
    "        [2.3, 5.2, 7.8],\n",
    "        [4.4, 4.9, 3.3],\n",
    "        [5.1, 5.9, 2.5],\n",
    "        [3.0, 0.8, 0.6],\n",
    "        [1.2, 2.3, 1.0]\n",
    "    ])\n",
    "test_data = data[:, : data.shape[1]-1]\n",
    "test_labels = data[:, -1]\n",
    "tree = CART(max_depth=3, min_node=1)\n",
    "tree.train(test_data, test_labels)\n",
    "pp = pprint.PrettyPrinter(indent=4)\n",
    "pp.pprint(tree.as_dict())\n",
    "\n",
    "print tree.test(np.array([[0.8, 1.1], [6.0, 10.1]]))"
   ]
  }
 ],
 "metadata": {
  "anaconda-cloud": {},
  "kernelspec": {
   "display_name": "Python [Root]",
   "language": "python",
   "name": "Python [Root]"
  },
  "language_info": {
   "codemirror_mode": {
    "name": "ipython",
    "version": 2
   },
   "file_extension": ".py",
   "mimetype": "text/x-python",
   "name": "python",
   "nbconvert_exporter": "python",
   "pygments_lexer": "ipython2",
   "version": "2.7.12"
  }
 },
 "nbformat": 4,
 "nbformat_minor": 0
}
