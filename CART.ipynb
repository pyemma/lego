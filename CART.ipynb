{
 "cells": [
  {
   "cell_type": "code",
   "execution_count": 18,
   "metadata": {
    "collapsed": false
   },
   "outputs": [],
   "source": [
    "%reload_ext autoreload\n",
    "%autoreload 2"
   ]
  },
  {
   "cell_type": "code",
   "execution_count": 4,
   "metadata": {
    "collapsed": false
   },
   "outputs": [
    {
     "name": "stdout",
     "output_type": "stream",
     "text": [
      "{   'feature': 1,\n",
      "    'left_child': {   'feature': 0,\n",
      "                      'left_child': {   'predict': 1.1000000000000001},\n",
      "                      'right_child': {   'predict': 0.59999999999999998},\n",
      "                      'value': 1.2},\n",
      "    'right_child': {   'feature': 0,\n",
      "                       'left_child': {   'predict': 7.7999999999999998},\n",
      "                       'right_child': {   'predict': 2.8999999999999999},\n",
      "                       'value': 2.2999999999999998},\n",
      "    'value': 2.2999999999999998}\n",
      "[ 1.1  2.9]\n"
     ]
    }
   ],
   "source": [
    "import numpy as np\n",
    "import pprint\n",
    "from classifier.CART import CART\n",
    "\n",
    "data = np.array([\n",
    "        [0.6, 1.0, 1.2],\n",
    "        [2.3, 5.2, 7.8],\n",
    "        [4.4, 4.9, 3.3],\n",
    "        [5.1, 5.9, 2.5],\n",
    "        [3.0, 0.8, 0.6],\n",
    "        [1.2, 2.3, 1.0]\n",
    "    ])\n",
    "test_data = data[:, : data.shape[1]-1]\n",
    "test_labels = data[:, -1]\n",
    "tree = CART(max_depth=3, min_node=1)\n",
    "tree.train(test_data, test_labels)\n",
    "pp = pprint.PrettyPrinter(indent=4)\n",
    "pp.pprint(tree.as_dict())\n",
    "\n",
    "print tree.test(np.array([[0.8, 1.1], [6.0, 10.1]]))"
   ]
  },
  {
   "cell_type": "code",
   "execution_count": 41,
   "metadata": {
    "collapsed": false
   },
   "outputs": [
    {
     "name": "stdout",
     "output_type": "stream",
     "text": [
      "0.962365591398\n"
     ]
    }
   ],
   "source": [
    "from classifier.GBDT import GBDT\n",
    "from dataset.data_helper import get_banknote_data\n",
    "\n",
    "training_data, training_labels, testing_data, testing_labels = get_banknote_data()\n",
    "gbdt = GBDT(20, 2, 10)\n",
    "gbdt.train(training_data, training_labels)\n",
    "\n",
    "predict = gbdt.predict(testing_data)\n",
    "accu = np.mean((predict > 0.5).astype(np.float32) == testing_labels)\n",
    "print accu"
   ]
  },
  {
   "cell_type": "code",
   "execution_count": 46,
   "metadata": {
    "collapsed": false
   },
   "outputs": [
    {
     "name": "stdout",
     "output_type": "stream",
     "text": [
      "[0.049598658200551093, 0.050676889900563078, 0.050796693422786629, 0.051036300467233738, 0.050557086378339527, 0.050676889900563078, 0.049718461722774651, 0.05007787228944531, 0.051036300467233738, 0.051156103989457295, 0.05043728285611597, 0.049598658200551093, 0.049359051156103992, 0.050317479333892419, 0.048999640589433326, 0.049598658200551093, 0.048760033544986224, 0.048640230022762673, 0.049478854678327543, 0.049478854678327543]\n",
      "0.873655913978\n"
     ]
    }
   ],
   "source": [
    "from classifier.RandomForest import RandomForest\n",
    "\n",
    "rf = RandomForest(20, 2, 10)\n",
    "rf.train(training_data, training_labels)\n",
    "\n",
    "predict = rf.predict(testing_data, mode='vote')\n",
    "accu = np.mean(predict == testing_labels)\n",
    "print accu"
   ]
  },
  {
   "cell_type": "code",
   "execution_count": 43,
   "metadata": {
    "collapsed": false
   },
   "outputs": [
    {
     "name": "stdout",
     "output_type": "stream",
     "text": [
      "0.870967741935\n"
     ]
    }
   ],
   "source": [
    "from classifier.CART import CART\n",
    "\n",
    "cart = CART(2, 10)\n",
    "cart.train(training_data, training_labels)\n",
    "\n",
    "predict = rf.predict(testing_data)\n",
    "accu = np.mean((predict > 0.5).astype(np.float32) == testing_labels)\n",
    "print accu"
   ]
  }
 ],
 "metadata": {
  "anaconda-cloud": {},
  "kernelspec": {
   "display_name": "Python [conda root]",
   "language": "python",
   "name": "conda-root-py"
  },
  "language_info": {
   "codemirror_mode": {
    "name": "ipython",
    "version": 2
   },
   "file_extension": ".py",
   "mimetype": "text/x-python",
   "name": "python",
   "nbconvert_exporter": "python",
   "pygments_lexer": "ipython2",
   "version": "2.7.12"
  }
 },
 "nbformat": 4,
 "nbformat_minor": 0
}
